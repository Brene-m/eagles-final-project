{
  "cells": [
    {
      "cell_type": "markdown",
      "metadata": {
        "id": "view-in-github",
        "colab_type": "text"
      },
      "source": [
        "<a href=\"https://colab.research.google.com/github/Kanoru01/eagles-final-project/blob/master/Amazon_Fashion_Recommender_System.ipynb\" target=\"_parent\"><img src=\"https://colab.research.google.com/assets/colab-badge.svg\" alt=\"Open In Colab\"/></a>"
      ]
    },
    {
      "cell_type": "markdown",
      "source": [
        "# AMAZON FASHION RECOMMENDATION SYSTEM"
      ],
      "metadata": {
        "id": "idwbZOykugWN"
      },
      "id": "idwbZOykugWN"
    },
    {
      "cell_type": "markdown",
      "source": [
        "## Business Understanding"
      ],
      "metadata": {
        "id": "kNOx8xbuus55"
      },
      "id": "kNOx8xbuus55"
    },
    {
      "cell_type": "markdown",
      "source": [
        "### Problem statement\n",
        "As customers' fashion needs increase there is a dire need to keep up with them. In the cases where customers need accurate recommendations based on their fashion sense, it has become essential to save time by recommending what product to purchase\n",
        "\n",
        "### Business Question\n",
        "The stakeholders are entrepreneurs venturing into the fashion industry and new startups. We would like to build a recommendation system that would predict the products to customers based on their input fashion choices.\n",
        "\n",
        "### Main objective\n",
        "To build a model that predicts amazon fashion products to customers using images.\n",
        "\n",
        "### Supplementary Objectives\n",
        "- To find out the competition based on sales\n",
        "- To look at successful brands and project future collaborations\n",
        "- Recommend highly rated products to customers.\n",
        "- Recommending highly rated sellers to customers"
      ],
      "metadata": {
        "id": "NBKctQ09u3-E"
      },
      "id": "NBKctQ09u3-E"
    },
    {
      "cell_type": "markdown",
      "source": [
        "## DATA UNDERSTANDING"
      ],
      "metadata": {
        "id": "kuwkbKWju8MT"
      },
      "id": "kuwkbKWju8MT"
    },
    {
      "cell_type": "markdown",
      "source": [
        "[Data.world](https://data.world/promptcloud/amazon-fashion-products-2020) through PromptCloud, provided the dataset. The dataset contains the sample of the full Amazon Fashion Products Dataset 2020 from DataStock.The information was assembled in 2021 by data mining teams at PromptCloud and DataStock for various analytical purposes and is presented in json format. \n",
        "\n",
        "The dataset contains 33 columns alongside 30,000 obseravtions.\n",
        "Below, are some of the column descriptions:\n",
        "\n",
        "- uniq_id-- The unique ID of the product\n",
        "- crawl_timestamp-- The time of the crawl to pull the data\n",
        "- asin-- The ASIN of the product\n",
        "- product_url-- The URL of the product\n",
        "- product_name-- The name of the product\n",
        "- image_urls__small-- The url of the images in small size\n",
        "- medium-- The medium by which the product was seen\n",
        "- large-- the size of the file\n",
        "- browsenode\n",
        "- seller_name-- the name of the seller of the product\n",
        "- seller_id-- the ID of the seller of the product\n",
        "- brand-- the brand of the product\n",
        "- sales_price-- the price of the sale of the product\n",
        "- discount_percentage-- the discount that was being offered on the product\n",
        "- weight-- the weight of the product\n",
        "- rating-- the rating of the product\n",
        "- no__of_reviews-- The number of reviews that have been given to the product\n",
        "- delivery_type-- the type of delivery the product will be delivered to the buyer\n",
        "- meta_keywords-- the keywords used to search for the product\n",
        "- amazon_prime__y_or_n-- If the buyer has an amazon prime membership or no\n",
        "- best_seller_tag__y_or_n-- the tag of bestseller or no\n",
        "- technical_details__k_v_pairs-- the repair was given or no "
      ],
      "metadata": {
        "id": "2qsgPHp1v88v"
      },
      "id": "2qsgPHp1v88v"
    },
    {
      "cell_type": "markdown",
      "source": [
        "## Loading the Data"
      ],
      "metadata": {
        "id": "aRhrK58jvrPq"
      },
      "id": "aRhrK58jvrPq"
    },
    {
      "cell_type": "markdown",
      "source": [
        "### Loading libraries"
      ],
      "metadata": {
        "id": "rjv0y6lmvtvv"
      },
      "id": "rjv0y6lmvtvv"
    },
    {
      "cell_type": "markdown",
      "source": [
        "Connecting to Google drive and Importing all the necessary Libraries | Modules."
      ],
      "metadata": {
        "id": "6ywoyiWita_j"
      },
      "id": "6ywoyiWita_j"
    },
    {
      "cell_type": "code",
      "source": [
        "#connecting collab to google drive \n",
        "\n",
        "from google.colab import drive\n",
        "drive.mount('/content/drive')"
      ],
      "metadata": {
        "colab": {
          "base_uri": "https://localhost:8080/"
        },
        "id": "qh43pVs5sjzN",
        "outputId": "29814194-b265-43ea-c2e6-6a91f5ee8a81"
      },
      "id": "qh43pVs5sjzN",
      "execution_count": null,
      "outputs": [
        {
          "output_type": "stream",
          "name": "stdout",
          "text": [
            "Mounted at /content/drive\n"
          ]
        }
      ]
    },
    {
      "cell_type": "code",
      "execution_count": null,
      "id": "ec2059f6",
      "metadata": {
        "id": "ec2059f6"
      },
      "outputs": [],
      "source": [
        "#import all the relevant libraries\n",
        "\n",
        "import pandas as pd\n",
        "import numpy as np\n",
        "import os, shutil\n",
        "\n",
        "import matplotlib.pyplot as plt\n",
        "%matplotlib inline\n",
        "import seaborn as sns\n",
        "\n",
        "\n"
      ]
    },
    {
      "cell_type": "markdown",
      "source": [
        "### Loading the data"
      ],
      "metadata": {
        "id": "qQvGqSdWwMot"
      },
      "id": "qQvGqSdWwMot"
    },
    {
      "cell_type": "markdown",
      "source": [
        "The data was loaded using `os.listdir` method"
      ],
      "metadata": {
        "id": "eGxWNryHwvPW"
      },
      "id": "eGxWNryHwvPW"
    },
    {
      "cell_type": "code",
      "source": [
        "data= pd.read_json('/content/drive/Shareddrives/Eagles/marketing_sample_for_amazon_com-amazon_fashion_products__20200201_20200430__30k_data.ldjson', lines= True)"
      ],
      "metadata": {
        "id": "804V7BrUJhMR"
      },
      "id": "804V7BrUJhMR",
      "execution_count": null,
      "outputs": []
    },
    {
      "cell_type": "code",
      "source": [
        "#printing the contents of the amazon fashion folder\n",
        "print(os.listdir('/content/drive/Shareddrives/Eagles/amazon_fashion'))"
      ],
      "metadata": {
        "id": "PvWrUT6Nw_eR"
      },
      "id": "PvWrUT6Nw_eR",
      "execution_count": null,
      "outputs": []
    },
    {
      "cell_type": "code",
      "execution_count": null,
      "id": "259825fd",
      "metadata": {
        "id": "259825fd",
        "outputId": "277f947b-fce9-4a75-89ed-03d904534961"
      },
      "outputs": [
        {
          "data": {
            "text/html": [
              "<div>\n",
              "<style scoped>\n",
              "    .dataframe tbody tr th:only-of-type {\n",
              "        vertical-align: middle;\n",
              "    }\n",
              "\n",
              "    .dataframe tbody tr th {\n",
              "        vertical-align: top;\n",
              "    }\n",
              "\n",
              "    .dataframe thead th {\n",
              "        text-align: right;\n",
              "    }\n",
              "</style>\n",
              "<table border=\"1\" class=\"dataframe\">\n",
              "  <thead>\n",
              "    <tr style=\"text-align: right;\">\n",
              "      <th></th>\n",
              "      <th>uniq_id</th>\n",
              "      <th>crawl_timestamp</th>\n",
              "      <th>asin</th>\n",
              "      <th>product_url</th>\n",
              "      <th>product_name</th>\n",
              "      <th>image_urls__small</th>\n",
              "      <th>medium</th>\n",
              "      <th>large</th>\n",
              "      <th>browsenode</th>\n",
              "      <th>brand</th>\n",
              "      <th>...</th>\n",
              "      <th>colour</th>\n",
              "      <th>no__of_reviews</th>\n",
              "      <th>seller_name</th>\n",
              "      <th>seller_id</th>\n",
              "      <th>left_in_stock</th>\n",
              "      <th>no__of_offers</th>\n",
              "      <th>no__of_sellers</th>\n",
              "      <th>technical_details__k_v_pairs</th>\n",
              "      <th>formats___editions</th>\n",
              "      <th>name_of_author_for_books</th>\n",
              "    </tr>\n",
              "  </thead>\n",
              "  <tbody>\n",
              "    <tr>\n",
              "      <th>0</th>\n",
              "      <td>26d41bdc1495de290bc8e6062d927729</td>\n",
              "      <td>2020-02-07 05:11:36 +0000</td>\n",
              "      <td>B07STS2W9T</td>\n",
              "      <td>https://www.amazon.in/Facon-Kalamkari-Handbloc...</td>\n",
              "      <td>LA' Facon Cotton Kalamkari Handblock Saree Blo...</td>\n",
              "      <td>https://images-na.ssl-images-amazon.com/images...</td>\n",
              "      <td>https://images-na.ssl-images-amazon.com/images...</td>\n",
              "      <td>https://images-na.ssl-images-amazon.com/images...</td>\n",
              "      <td>1.968255e+09</td>\n",
              "      <td>LA' Facon</td>\n",
              "      <td>...</td>\n",
              "      <td>NaN</td>\n",
              "      <td>NaN</td>\n",
              "      <td>NaN</td>\n",
              "      <td>NaN</td>\n",
              "      <td>NaN</td>\n",
              "      <td>NaN</td>\n",
              "      <td>NaN</td>\n",
              "      <td>NaN</td>\n",
              "      <td>NaN</td>\n",
              "      <td>NaN</td>\n",
              "    </tr>\n",
              "    <tr>\n",
              "      <th>1</th>\n",
              "      <td>410c62298852e68f34c35560f2311e5a</td>\n",
              "      <td>2020-02-07 08:45:56 +0000</td>\n",
              "      <td>B07N6TD2WL</td>\n",
              "      <td>https://www.amazon.in/Sf-Jeans-Pantaloons-T-Sh...</td>\n",
              "      <td>Sf Jeans By Pantaloons Men's Plain Slim fit T-...</td>\n",
              "      <td>https://images-na.ssl-images-amazon.com/images...</td>\n",
              "      <td>https://images-na.ssl-images-amazon.com/images...</td>\n",
              "      <td>https://images-na.ssl-images-amazon.com/images...</td>\n",
              "      <td>1.968123e+09</td>\n",
              "      <td>NaN</td>\n",
              "      <td>...</td>\n",
              "      <td>NaN</td>\n",
              "      <td>NaN</td>\n",
              "      <td>NaN</td>\n",
              "      <td>NaN</td>\n",
              "      <td>NaN</td>\n",
              "      <td>NaN</td>\n",
              "      <td>NaN</td>\n",
              "      <td>NaN</td>\n",
              "      <td>NaN</td>\n",
              "      <td>NaN</td>\n",
              "    </tr>\n",
              "    <tr>\n",
              "      <th>2</th>\n",
              "      <td>52e31bb31680b0ec73de0d781a23cc0a</td>\n",
              "      <td>2020-02-06 11:09:38 +0000</td>\n",
              "      <td>B07WJ6WPN1</td>\n",
              "      <td>https://www.amazon.in/LOVISTA-Traditional-Prin...</td>\n",
              "      <td>LOVISTA Cotton Gota Patti Tassel Traditional P...</td>\n",
              "      <td>https://images-na.ssl-images-amazon.com/images...</td>\n",
              "      <td>https://images-na.ssl-images-amazon.com/images...</td>\n",
              "      <td>https://images-na.ssl-images-amazon.com/images...</td>\n",
              "      <td>1.968255e+09</td>\n",
              "      <td>LOVISTA</td>\n",
              "      <td>...</td>\n",
              "      <td>NaN</td>\n",
              "      <td>NaN</td>\n",
              "      <td>NaN</td>\n",
              "      <td>NaN</td>\n",
              "      <td>NaN</td>\n",
              "      <td>NaN</td>\n",
              "      <td>NaN</td>\n",
              "      <td>NaN</td>\n",
              "      <td>NaN</td>\n",
              "      <td>NaN</td>\n",
              "    </tr>\n",
              "    <tr>\n",
              "      <th>3</th>\n",
              "      <td>25798d6dc43239c118452d1bee0fb088</td>\n",
              "      <td>2020-02-07 08:32:45 +0000</td>\n",
              "      <td>B07PYSF4WZ</td>\n",
              "      <td>https://www.amazon.in/People-Printed-Regular-T...</td>\n",
              "      <td>People Men's Printed Regular fit T-Shirt</td>\n",
              "      <td>https://images-na.ssl-images-amazon.com/images...</td>\n",
              "      <td>https://images-na.ssl-images-amazon.com/images...</td>\n",
              "      <td>https://images-na.ssl-images-amazon.com/images...</td>\n",
              "      <td>1.968123e+09</td>\n",
              "      <td>NaN</td>\n",
              "      <td>...</td>\n",
              "      <td>NaN</td>\n",
              "      <td>NaN</td>\n",
              "      <td>NaN</td>\n",
              "      <td>NaN</td>\n",
              "      <td>NaN</td>\n",
              "      <td>NaN</td>\n",
              "      <td>NaN</td>\n",
              "      <td>NaN</td>\n",
              "      <td>NaN</td>\n",
              "      <td>NaN</td>\n",
              "    </tr>\n",
              "    <tr>\n",
              "      <th>4</th>\n",
              "      <td>ad8a5a196d515ef09dfdaf082bdc37c4</td>\n",
              "      <td>2020-02-06 14:27:48 +0000</td>\n",
              "      <td>B082KXNM7X</td>\n",
              "      <td>https://www.amazon.in/Monte-Carlo-Cotton-Colla...</td>\n",
              "      <td>Monte Carlo Grey Solid Cotton Blend Polo Colla...</td>\n",
              "      <td>https://images-na.ssl-images-amazon.com/images...</td>\n",
              "      <td>https://images-na.ssl-images-amazon.com/images...</td>\n",
              "      <td>https://images-na.ssl-images-amazon.com/images...</td>\n",
              "      <td>1.968070e+09</td>\n",
              "      <td>NaN</td>\n",
              "      <td>...</td>\n",
              "      <td>NaN</td>\n",
              "      <td>NaN</td>\n",
              "      <td>NaN</td>\n",
              "      <td>NaN</td>\n",
              "      <td>NaN</td>\n",
              "      <td>NaN</td>\n",
              "      <td>NaN</td>\n",
              "      <td>NaN</td>\n",
              "      <td>NaN</td>\n",
              "      <td>NaN</td>\n",
              "    </tr>\n",
              "  </tbody>\n",
              "</table>\n",
              "<p>5 rows × 33 columns</p>\n",
              "</div>"
            ],
            "text/plain": [
              "                            uniq_id            crawl_timestamp        asin  \\\n",
              "0  26d41bdc1495de290bc8e6062d927729  2020-02-07 05:11:36 +0000  B07STS2W9T   \n",
              "1  410c62298852e68f34c35560f2311e5a  2020-02-07 08:45:56 +0000  B07N6TD2WL   \n",
              "2  52e31bb31680b0ec73de0d781a23cc0a  2020-02-06 11:09:38 +0000  B07WJ6WPN1   \n",
              "3  25798d6dc43239c118452d1bee0fb088  2020-02-07 08:32:45 +0000  B07PYSF4WZ   \n",
              "4  ad8a5a196d515ef09dfdaf082bdc37c4  2020-02-06 14:27:48 +0000  B082KXNM7X   \n",
              "\n",
              "                                         product_url  \\\n",
              "0  https://www.amazon.in/Facon-Kalamkari-Handbloc...   \n",
              "1  https://www.amazon.in/Sf-Jeans-Pantaloons-T-Sh...   \n",
              "2  https://www.amazon.in/LOVISTA-Traditional-Prin...   \n",
              "3  https://www.amazon.in/People-Printed-Regular-T...   \n",
              "4  https://www.amazon.in/Monte-Carlo-Cotton-Colla...   \n",
              "\n",
              "                                        product_name  \\\n",
              "0  LA' Facon Cotton Kalamkari Handblock Saree Blo...   \n",
              "1  Sf Jeans By Pantaloons Men's Plain Slim fit T-...   \n",
              "2  LOVISTA Cotton Gota Patti Tassel Traditional P...   \n",
              "3           People Men's Printed Regular fit T-Shirt   \n",
              "4  Monte Carlo Grey Solid Cotton Blend Polo Colla...   \n",
              "\n",
              "                                   image_urls__small  \\\n",
              "0  https://images-na.ssl-images-amazon.com/images...   \n",
              "1  https://images-na.ssl-images-amazon.com/images...   \n",
              "2  https://images-na.ssl-images-amazon.com/images...   \n",
              "3  https://images-na.ssl-images-amazon.com/images...   \n",
              "4  https://images-na.ssl-images-amazon.com/images...   \n",
              "\n",
              "                                              medium  \\\n",
              "0  https://images-na.ssl-images-amazon.com/images...   \n",
              "1  https://images-na.ssl-images-amazon.com/images...   \n",
              "2  https://images-na.ssl-images-amazon.com/images...   \n",
              "3  https://images-na.ssl-images-amazon.com/images...   \n",
              "4  https://images-na.ssl-images-amazon.com/images...   \n",
              "\n",
              "                                               large    browsenode      brand  \\\n",
              "0  https://images-na.ssl-images-amazon.com/images...  1.968255e+09  LA' Facon   \n",
              "1  https://images-na.ssl-images-amazon.com/images...  1.968123e+09        NaN   \n",
              "2  https://images-na.ssl-images-amazon.com/images...  1.968255e+09    LOVISTA   \n",
              "3  https://images-na.ssl-images-amazon.com/images...  1.968123e+09        NaN   \n",
              "4  https://images-na.ssl-images-amazon.com/images...  1.968070e+09        NaN   \n",
              "\n",
              "   ...  colour no__of_reviews  seller_name seller_id left_in_stock  \\\n",
              "0  ...     NaN            NaN          NaN       NaN           NaN   \n",
              "1  ...     NaN            NaN          NaN       NaN           NaN   \n",
              "2  ...     NaN            NaN          NaN       NaN           NaN   \n",
              "3  ...     NaN            NaN          NaN       NaN           NaN   \n",
              "4  ...     NaN            NaN          NaN       NaN           NaN   \n",
              "\n",
              "  no__of_offers no__of_sellers technical_details__k_v_pairs  \\\n",
              "0           NaN            NaN                          NaN   \n",
              "1           NaN            NaN                          NaN   \n",
              "2           NaN            NaN                          NaN   \n",
              "3           NaN            NaN                          NaN   \n",
              "4           NaN            NaN                          NaN   \n",
              "\n",
              "  formats___editions name_of_author_for_books  \n",
              "0                NaN                      NaN  \n",
              "1                NaN                      NaN  \n",
              "2                NaN                      NaN  \n",
              "3                NaN                      NaN  \n",
              "4                NaN                      NaN  \n",
              "\n",
              "[5 rows x 33 columns]"
            ]
          },
          "execution_count": 16,
          "metadata": {},
          "output_type": "execute_result"
        }
      ],
      "source": [
        "data.head()"
      ]
    },
    {
      "cell_type": "code",
      "execution_count": null,
      "id": "86c43bff",
      "metadata": {
        "id": "86c43bff",
        "outputId": "43f74e61-ceba-4d16-dbdb-8768245010fc"
      },
      "outputs": [
        {
          "data": {
            "text/plain": [
              "(30000, 33)"
            ]
          },
          "execution_count": 15,
          "metadata": {},
          "output_type": "execute_result"
        }
      ],
      "source": [
        "data.shape"
      ]
    },
    {
      "cell_type": "code",
      "execution_count": null,
      "id": "2964a37b",
      "metadata": {
        "id": "2964a37b",
        "outputId": "b02177f3-727d-4216-fccc-12e0a8aa5f58"
      },
      "outputs": [
        {
          "name": "stdout",
          "output_type": "stream",
          "text": [
            "<class 'pandas.core.frame.DataFrame'>\n",
            "RangeIndex: 30000 entries, 0 to 29999\n",
            "Data columns (total 33 columns):\n",
            " #   Column                         Non-Null Count  Dtype  \n",
            "---  ------                         --------------  -----  \n",
            " 0   uniq_id                        30000 non-null  object \n",
            " 1   crawl_timestamp                30000 non-null  object \n",
            " 2   asin                           30000 non-null  object \n",
            " 3   product_url                    30000 non-null  object \n",
            " 4   product_name                   30000 non-null  object \n",
            " 5   image_urls__small              29998 non-null  object \n",
            " 6   medium                         29998 non-null  object \n",
            " 7   large                          28841 non-null  object \n",
            " 8   browsenode                     29480 non-null  float64\n",
            " 9   brand                          21857 non-null  object \n",
            " 10  sales_price                    27110 non-null  float64\n",
            " 11  weight                         30000 non-null  object \n",
            " 12  rating                         30000 non-null  float64\n",
            " 13  sales_rank_in_parent_category  25497 non-null  object \n",
            " 14  sales_rank_in_child_category   24851 non-null  object \n",
            " 15  delivery_type                  30000 non-null  object \n",
            " 16  meta_keywords                  30000 non-null  object \n",
            " 17  amazon_prime__y_or_n           30000 non-null  object \n",
            " 18  parent___child_category__all   25497 non-null  object \n",
            " 19  best_seller_tag__y_or_n        30000 non-null  object \n",
            " 20  other_items_customers_buy      24363 non-null  object \n",
            " 21  product_details__k_v_pairs     28817 non-null  object \n",
            " 22  discount_percentage            14624 non-null  object \n",
            " 23  colour                         6029 non-null   object \n",
            " 24  no__of_reviews                 3452 non-null   float64\n",
            " 25  seller_name                    8364 non-null   object \n",
            " 26  seller_id                      8364 non-null   object \n",
            " 27  left_in_stock                  3057 non-null   float64\n",
            " 28  no__of_offers                  1020 non-null   float64\n",
            " 29  no__of_sellers                 1020 non-null   float64\n",
            " 30  technical_details__k_v_pairs   1154 non-null   object \n",
            " 31  formats___editions             2 non-null      object \n",
            " 32  name_of_author_for_books       1 non-null      object \n",
            "dtypes: float64(7), object(26)\n",
            "memory usage: 7.6+ MB\n"
          ]
        }
      ],
      "source": [
        "data.info()"
      ]
    },
    {
      "cell_type": "code",
      "execution_count": null,
      "id": "fa068bbd",
      "metadata": {
        "id": "fa068bbd",
        "outputId": "27948997-63b3-4c49-a04e-51bca87d375f"
      },
      "outputs": [
        {
          "data": {
            "text/plain": [
              "5.0"
            ]
          },
          "execution_count": 17,
          "metadata": {},
          "output_type": "execute_result"
        }
      ],
      "source": [
        "data['rating'][0]"
      ]
    },
    {
      "cell_type": "code",
      "execution_count": null,
      "id": "7ae80cfa",
      "metadata": {
        "id": "7ae80cfa"
      },
      "outputs": [],
      "source": []
    }
  ],
  "metadata": {
    "kernelspec": {
      "display_name": "Python (learn-env)",
      "language": "python",
      "name": "learn-env"
    },
    "language_info": {
      "codemirror_mode": {
        "name": "ipython",
        "version": 3
      },
      "file_extension": ".py",
      "mimetype": "text/x-python",
      "name": "python",
      "nbconvert_exporter": "python",
      "pygments_lexer": "ipython3",
      "version": "3.8.5"
    },
    "colab": {
      "provenance": [],
      "collapsed_sections": [],
      "include_colab_link": true
    }
  },
  "nbformat": 4,
  "nbformat_minor": 5
}