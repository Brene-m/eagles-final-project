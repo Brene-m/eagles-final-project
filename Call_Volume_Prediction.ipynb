{
 "cells": [
  {
   "cell_type": "markdown",
   "id": "b4c8d288",
   "metadata": {
    "colab_type": "text",
    "id": "view-in-github"
   },
   "source": [
    "<a href=\"https://colab.research.google.com/github/Kanoru01/eagles-final-project/blob/master/Amazon_Fashion_Recommender_System.ipynb\" target=\"_parent\"><img src=\"https://colab.research.google.com/assets/colab-badge.svg\" alt=\"Open In Colab\"/></a>"
   ]
  },
  {
   "cell_type": "markdown",
   "id": "idwbZOykugWN",
   "metadata": {
    "id": "idwbZOykugWN"
   },
   "source": [
    "# CALL VOLUME PREDICTION"
   ]
  },
  {
   "cell_type": "markdown",
   "id": "kNOx8xbuus55",
   "metadata": {
    "id": "kNOx8xbuus55"
   },
   "source": [
    "## Business Understanding"
   ]
  },
  {
   "cell_type": "markdown",
   "id": "NBKctQ09u3-E",
   "metadata": {
    "id": "NBKctQ09u3-E"
   },
   "source": [
    "### Problem statement\n",
    "As a result of an increased number of reported cases on child abuse, there is a dire need to have prompt responses. It is crucial that reported cases are acted upon promptly to ensure timely and efficient handling of reported cases.\n",
    "\n",
    "The stakeholders are Mtoto News, a digital company that leverages on technology to improve child wellbeing, and Childline Kenya, an NGO established in response to the state of child protection in Kenya and the manner in which abuse cases were being reported and handled.\n",
    "\n",
    "### Main objective\n",
    "Building a forecast model that predicts the number of incoming calls that Childline Kenya will receive per hour per day.\n",
    "\n",
    "### Business Questions\n",
    "Find out whether time affects child abuse occurences.<br>\n",
    "Does weather/climate affect child abuse occurunces?<br>\n",
    "Do public holidays affect child abuse occurences?<br>\n",
    "Does child abuse occur more often at school or at home?<br>\n",
    "\n",
    "\n"
   ]
  },
  {
   "cell_type": "markdown",
   "id": "kuwkbKWju8MT",
   "metadata": {
    "id": "kuwkbKWju8MT"
   },
   "source": [
    "## DATA UNDERSTANDING"
   ]
  },
  {
   "cell_type": "markdown",
   "id": "2qsgPHp1v88v",
   "metadata": {
    "id": "2qsgPHp1v88v"
   },
   "source": [
    "The dataset is provided on [Zindi Africa](https://zindi.africa/competitions/mtoto-news-childline-kenya-call-volume-prediction-challenge), by Mtoto News and Childline Kenya. The data has been split into a test and training set. The training set contains all the calls (over 135,000) that were received from 1 January 2016 to 12 July 2016.\n",
    "\n",
    "Each call contains the following fields:\n",
    "\n",
    "- calldate - Date (month-day-year) and time of the call\n",
    "\n",
    "- cc_status - Case status\n",
    "\n",
    "- maincat - Main category call falls into\n",
    "\n",
    "- subcat1 - Subcategory call falls under\n",
    "\n",
    "- casepriority - Priority of the case\n",
    "\n",
    "- referal -  Party contacted (refered to)\n",
    "\n",
    "- caller_gender - Gender of the caller\n",
    "\n",
    "- caller_age - Age of the caller\n",
    "\n",
    "- caller_county - Area where the call came from\n",
    "\n",
    "- child_age - Age of the child in case\n",
    "\n",
    "- child_gender - Gender of the child in case\n",
    "\n",
    "- child_county - Area where the child is from\n",
    "\n",
    "- parent_age - Age of the parent\n",
    "\n",
    "- parent_gender - Gender of the parent\n",
    "\n",
    "- parent_county - Area where the child is from\n",
    "\n",
    "- Abuser_Relationship - Relationship abuser has with the child in case\n",
    "\n",
    "- Neglector_Relationship - Relationship neglector has with the child in case\n",
    "\n",
    "- Physical_abuser_Relationship - Relationship physical abuser has with the child in case"
   ]
  }
 ],
 "metadata": {
  "colab": {
   "collapsed_sections": [],
   "include_colab_link": true,
   "provenance": []
  },
  "kernelspec": {
   "display_name": "Python (learn-env)",
   "language": "python",
   "name": "learn-env"
  },
  "language_info": {
   "codemirror_mode": {
    "name": "ipython",
    "version": 3
   },
   "file_extension": ".py",
   "mimetype": "text/x-python",
   "name": "python",
   "nbconvert_exporter": "python",
   "pygments_lexer": "ipython3",
   "version": "3.8.5"
  }
 },
 "nbformat": 4,
 "nbformat_minor": 5
}
